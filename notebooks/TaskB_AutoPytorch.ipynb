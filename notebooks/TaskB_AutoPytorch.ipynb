{
 "metadata": {
  "language_info": {
   "codemirror_mode": {
    "name": "ipython",
    "version": 3
   },
   "file_extension": ".py",
   "mimetype": "text/x-python",
   "name": "python",
   "nbconvert_exporter": "python",
   "pygments_lexer": "ipython3",
   "version": "3.8.2-final"
  },
  "orig_nbformat": 2,
  "kernelspec": {
   "name": "Python 3.8.2 64-bit ('.venv')",
   "display_name": "Python 3.8.2 64-bit ('.venv')",
   "metadata": {
    "interpreter": {
     "hash": "192953b4b13d7b99ea2c0cbcac7edca147e642ffdb580024fa36981cd02ecc5a"
    }
   }
  }
 },
 "nbformat": 4,
 "nbformat_minor": 2,
 "cells": [
  {
   "cell_type": "code",
   "execution_count": 1,
   "metadata": {
    "tags": []
   },
   "outputs": [
    {
     "output_type": "stream",
     "name": "stdout",
     "text": "c:\\Users\\saipr\\Documents\\Deep Learning\\ws19\\LCBench_DL\n"
    }
   ],
   "source": [
    "%cd ..\n",
    "from autoPyTorch import AutoNetRegression\n",
    "sys.path.append(\"../\")\n",
    "\n",
    "from func.load_data import load_data_from_file, prepare_dataloaders\n"
   ]
  },
  {
   "source": [
    "## Load data"
   ],
   "cell_type": "markdown",
   "metadata": {}
  },
  {
   "cell_type": "code",
   "execution_count": 2,
   "metadata": {
    "tags": []
   },
   "outputs": [
    {
     "output_type": "stream",
     "name": "stdout",
     "text": "Path to hyperparameters data:  c:\\Users\\saipr\\Documents\\Deep Learning\\ws19\\LCBench_DL/cached/six_datasets_lw.json\nPath to metafeatures data:  c:\\Users\\saipr\\Documents\\Deep Learning\\ws19\\LCBench_DL/cached/metafeatures_6.json\n==&gt; Loading data...\n==&gt; No cached data found or cache set to False.\n==&gt; Reading json data...\n==&gt; Done.\nAvailable datasets:  [&#39;Fashion-MNIST&#39;, &#39;adult&#39;, &#39;higgs&#39;, &#39;jasmine&#39;, &#39;vehicle&#39;, &#39;volkert&#39;]\nTrain-Validation-Test split: 6000-2000-4000\n"
    }
   ],
   "source": [
    "X_train, X_metafeatures_train, y_train, X_val, X_metafeatures_val, y_val, X_test, X_metafeatures_test, y_test    =   load_data_from_file(\"cached/six_datasets_lw.json\", \"cached/metafeatures_6.json\")"
   ]
  },
  {
   "source": [
    "## Prepare data"
   ],
   "cell_type": "markdown",
   "metadata": {}
  },
  {
   "cell_type": "code",
   "execution_count": 3,
   "metadata": {},
   "outputs": [],
   "source": [
    "X_train_new, y_train_new = prepare_dataloaders(X_hp=X_train, X_mf=X_metafeatures_train, y= y_train, X_scaling=\"minmax\",y_scaling=\"minmax\")\n",
    "X_val_new, y_val_new = prepare_dataloaders(X_hp=X_val, X_mf=X_metafeatures_val, y= y_val, X_scaling=\"minmax\",y_scaling=\"minmax\")\n",
    "X_test_new, y_test_new = prepare_dataloaders(X_hp=X_test, X_mf=X_metafeatures_test, y= y_test, X_scaling=\"minmax\", y_scaling=\"minmax\")"
   ]
  },
  {
   "source": [
    "## Initialize autonetregression instance"
   ],
   "cell_type": "markdown",
   "metadata": {}
  },
  {
   "cell_type": "code",
   "execution_count": 4,
   "metadata": {},
   "outputs": [],
   "source": [
    "autonet = AutoNetRegression(config_preset='tiny_cs', budget_type='epochs', min_budget=1, max_budget=9, num_iterations=12, log_level='info')"
   ]
  },
  {
   "cell_type": "code",
   "execution_count": 5,
   "metadata": {
    "tags": [
     "outputPrepend"
    ]
   },
   "outputs": [
    {
     "output_type": "stream",
     "name": "stderr",
     "text": "idation set given. Continue with validation set (no cross validation).\n07:16:54 [AutoNet] CV split 0 of 1\n07:17:13 Finished train with budget 9.0: Preprocessing took 0s, Training took 18s, Wrap up took 0s. Total time consumption in s: 19\n07:17:13 [AutoNet] Done with current split!\n07:17:13 Aggregate the results across the splits\n07:17:13 Process 1 additional result(s)\n07:17:14 Training [&#39;shapedresnet&#39;] with budget 9.0 resulted in optimize-metric-loss: 1.293770670890808 took 19.8080313205719 seconds\n07:17:14 WORKER: registered result for job (8, 0, 2) with dispatcher\n07:17:14 WORKER: start processing job (9, 0, 0)\n07:17:14 Fit optimization pipeline\n07:17:14 Validation split is set to 0.3 and validation set is specified, autonet will ignore split and evaluate on given validation set\n07:17:14 [AutoNet] Validation set given. Continue with validation set (no cross validation).\n07:17:14 [AutoNet] CV split 0 of 1\n07:17:16 Finished train with budget 1.0: Preprocessing took 0s, Training took 1s, Wrap up took 0s. Total time consumption in s: 2\n07:17:16 [AutoNet] Done with current split!\n07:17:16 Aggregate the results across the splits\n07:17:16 Process 1 additional result(s)\n07:17:16 Training [&#39;shapedresnet&#39;] with budget 1.0 resulted in optimize-metric-loss: 0.09823962301015854 took 2.379635810852051 seconds\n07:17:16 WORKER: registered result for job (9, 0, 0) with dispatcher\n07:17:16 WORKER: start processing job (9, 0, 1)\n07:17:16 Fit optimization pipeline\n07:17:16 Validation split is set to 0.3 and validation set is specified, autonet will ignore split and evaluate on given validation set\n07:17:16 [AutoNet] Validation set given. Continue with validation set (no cross validation).\n07:17:16 [AutoNet] CV split 0 of 1\n07:17:18 Finished train with budget 1.0: Preprocessing took 0s, Training took 1s, Wrap up took 0s. Total time consumption in s: 2\n07:17:18 [AutoNet] Done with current split!\n07:17:18 Aggregate the results across the splits\n07:17:18 Process 1 additional result(s)\n07:17:18 Training [&#39;shapedresnet&#39;] with budget 1.0 resulted in optimize-metric-loss: 0.13995347917079926 took 2.309823751449585 seconds\n07:17:18 WORKER: registered result for job (9, 0, 1) with dispatcher\n07:17:18 WORKER: start processing job (9, 0, 2)\n07:17:18 Fit optimization pipeline\n07:17:18 Validation split is set to 0.3 and validation set is specified, autonet will ignore split and evaluate on given validation set\n07:17:18 [AutoNet] Validation set given. Continue with validation set (no cross validation).\n07:17:18 [AutoNet] CV split 0 of 1\n07:17:21 Finished train with budget 1.0: Preprocessing took 0s, Training took 2s, Wrap up took 0s. Total time consumption in s: 3\n07:17:22 [AutoNet] Done with current split!\n07:17:22 Aggregate the results across the splits\n07:17:22 Process 1 additional result(s)\n07:17:22 Training [&#39;shapedresnet&#39;] with budget 1.0 resulted in optimize-metric-loss: 0.06961764395236969 took 3.308151960372925 seconds\n07:17:22 WORKER: registered result for job (9, 0, 2) with dispatcher\n07:17:22 WORKER: start processing job (9, 0, 3)\n07:17:22 Fit optimization pipeline\n07:17:22 Validation split is set to 0.3 and validation set is specified, autonet will ignore split and evaluate on given validation set\n07:17:22 [AutoNet] Validation set given. Continue with validation set (no cross validation).\n07:17:22 [AutoNet] CV split 0 of 1\n07:17:24 Finished train with budget 1.0: Preprocessing took 0s, Training took 2s, Wrap up took 0s. Total time consumption in s: 2\n07:17:24 [AutoNet] Done with current split!\n07:17:24 Aggregate the results across the splits\n07:17:24 Process 1 additional result(s)\n07:17:24 Training [&#39;shapedresnet&#39;] with budget 1.0 resulted in optimize-metric-loss: 0.11543052643537521 took 2.758657693862915 seconds\n07:17:24 WORKER: registered result for job (9, 0, 3) with dispatcher\n07:17:24 WORKER: start processing job (9, 0, 4)\n07:17:24 Fit optimization pipeline\n07:17:25 Validation split is set to 0.3 and validation set is specified, autonet will ignore split and evaluate on given validation set\n07:17:25 [AutoNet] Validation set given. Continue with validation set (no cross validation).\n07:17:25 [AutoNet] CV split 0 of 1\n07:17:28 Finished train with budget 1.0: Preprocessing took 0s, Training took 2s, Wrap up took 0s. Total time consumption in s: 3\n07:17:28 [AutoNet] Done with current split!\n07:17:28 Aggregate the results across the splits\n07:17:28 Process 1 additional result(s)\n07:17:28 Training [&#39;shapedresnet&#39;] with budget 1.0 resulted in optimize-metric-loss: 0.2195407748222351 took 3.648266553878784 seconds\n07:17:28 WORKER: registered result for job (9, 0, 4) with dispatcher\n07:17:28 WORKER: start processing job (9, 0, 5)\n07:17:28 Fit optimization pipeline\n07:17:28 Validation split is set to 0.3 and validation set is specified, autonet will ignore split and evaluate on given validation set\n07:17:28 [AutoNet] Validation set given. Continue with validation set (no cross validation).\n07:17:28 [AutoNet] CV split 0 of 1\n07:17:31 Finished train with budget 1.0: Preprocessing took 0s, Training took 2s, Wrap up took 0s. Total time consumption in s: 2\n07:17:31 [AutoNet] Done with current split!\n07:17:31 Aggregate the results across the splits\n07:17:31 Process 1 additional result(s)\n07:17:31 Training [&#39;shapedresnet&#39;] with budget 1.0 resulted in optimize-metric-loss: 0.07805503904819489 took 2.913210153579712 seconds\n07:17:31 WORKER: registered result for job (9, 0, 5) with dispatcher\n07:17:31 WORKER: start processing job (9, 0, 6)\n07:17:31 Fit optimization pipeline\n07:17:31 Validation split is set to 0.3 and validation set is specified, autonet will ignore split and evaluate on given validation set\n07:17:31 [AutoNet] Validation set given. Continue with validation set (no cross validation).\n07:17:31 [AutoNet] CV split 0 of 1\n07:17:38 Finished train with budget 1.0: Preprocessing took 0s, Training took 5s, Wrap up took 0s. Total time consumption in s: 6\n07:17:38 [AutoNet] Done with current split!\n07:17:38 Aggregate the results across the splits\n07:17:38 Process 1 additional result(s)\n07:17:38 Training [&#39;shapedresnet&#39;] with budget 1.0 resulted in optimize-metric-loss: 0.4850553870201111 took 6.821782827377319 seconds\n07:17:38 WORKER: registered result for job (9, 0, 6) with dispatcher\n07:17:38 WORKER: start processing job (9, 0, 7)\n07:17:38 Fit optimization pipeline\n07:17:38 Validation split is set to 0.3 and validation set is specified, autonet will ignore split and evaluate on given validation set\n07:17:38 [AutoNet] Validation set given. Continue with validation set (no cross validation).\n07:17:38 [AutoNet] CV split 0 of 1\n07:17:45 Finished train with budget 1.0: Preprocessing took 0s, Training took 6s, Wrap up took 0s. Total time consumption in s: 6\n07:17:45 [AutoNet] Done with current split!\n07:17:45 Aggregate the results across the splits\n07:17:45 Process 1 additional result(s)\n07:17:45 Training [&#39;shapedresnet&#39;] with budget 1.0 resulted in optimize-metric-loss: 0.0917646512389183 took 7.091036558151245 seconds\n07:17:45 WORKER: registered result for job (9, 0, 7) with dispatcher\n07:17:45 WORKER: start processing job (9, 0, 8)\n07:17:45 Fit optimization pipeline\n07:17:45 Validation split is set to 0.3 and validation set is specified, autonet will ignore split and evaluate on given validation set\n07:17:45 [AutoNet] Validation set given. Continue with validation set (no cross validation).\n07:17:45 [AutoNet] CV split 0 of 1\n07:17:53 Finished train with budget 1.0: Preprocessing took 0s, Training took 7s, Wrap up took 0s. Total time consumption in s: 8\n07:17:53 [AutoNet] Done with current split!\n07:17:53 Aggregate the results across the splits\n07:17:53 Process 1 additional result(s)\n07:17:53 Training [&#39;shapedresnet&#39;] with budget 1.0 resulted in optimize-metric-loss: 0.14823898673057556 took 8.223045110702515 seconds\n07:17:53 WORKER: registered result for job (9, 0, 8) with dispatcher\n07:17:53 WORKER: start processing job (9, 0, 2)\n07:17:53 Fit optimization pipeline\n07:17:53 Validation split is set to 0.3 and validation set is specified, autonet will ignore split and evaluate on given validation set\n07:17:53 [AutoNet] Validation set given. Continue with validation set (no cross validation).\n07:17:53 [AutoNet] CV split 0 of 1\n07:17:59 Finished train with budget 3.0: Preprocessing took 0s, Training took 5s, Wrap up took 0s. Total time consumption in s: 5\n07:17:59 [AutoNet] Done with current split!\n07:17:59 Aggregate the results across the splits\n07:17:59 Process 1 additional result(s)\n07:17:59 Training [&#39;shapedresnet&#39;] with budget 3.0 resulted in optimize-metric-loss: 0.12282151728868484 took 5.86132550239563 seconds\n07:17:59 WORKER: registered result for job (9, 0, 2) with dispatcher\n07:17:59 WORKER: start processing job (9, 0, 5)\n07:17:59 Fit optimization pipeline\n07:17:59 Validation split is set to 0.3 and validation set is specified, autonet will ignore split and evaluate on given validation set\n07:17:59 [AutoNet] Validation set given. Continue with validation set (no cross validation).\n07:17:59 [AutoNet] CV split 0 of 1\n07:18:04 Finished train with budget 3.0: Preprocessing took 0s, Training took 4s, Wrap up took 0s. Total time consumption in s: 5\n07:18:04 [AutoNet] Done with current split!\n07:18:04 Aggregate the results across the splits\n07:18:04 Process 1 additional result(s)\n07:18:04 Training [&#39;shapedresnet&#39;] with budget 3.0 resulted in optimize-metric-loss: 0.11161486804485321 took 5.265916347503662 seconds\n07:18:04 WORKER: registered result for job (9, 0, 5) with dispatcher\n07:18:04 WORKER: start processing job (9, 0, 7)\n07:18:04 Fit optimization pipeline\n07:18:04 Validation split is set to 0.3 and validation set is specified, autonet will ignore split and evaluate on given validation set\n07:18:04 [AutoNet] Validation set given. Continue with validation set (no cross validation).\n07:18:04 [AutoNet] CV split 0 of 1\n07:18:17 Finished train with budget 3.0: Preprocessing took 0s, Training took 11s, Wrap up took 0s. Total time consumption in s: 12\n07:18:17 [AutoNet] Done with current split!\n07:18:17 Aggregate the results across the splits\n07:18:17 Process 1 additional result(s)\n07:18:17 Training [&#39;shapedresnet&#39;] with budget 3.0 resulted in optimize-metric-loss: 0.21373920142650604 took 12.68810486793518 seconds\n07:18:17 WORKER: registered result for job (9, 0, 7) with dispatcher\n07:18:17 WORKER: start processing job (9, 0, 5)\n07:18:17 Fit optimization pipeline\n07:18:17 Validation split is set to 0.3 and validation set is specified, autonet will ignore split and evaluate on given validation set\n07:18:17 [AutoNet] Validation set given. Continue with validation set (no cross validation).\n07:18:17 [AutoNet] CV split 0 of 1\n07:18:29 Finished train with budget 9.0: Preprocessing took 0s, Training took 11s, Wrap up took 0s. Total time consumption in s: 11\n07:18:29 [AutoNet] Done with current split!\n07:18:29 Aggregate the results across the splits\n07:18:29 Process 1 additional result(s)\n07:18:29 Training [&#39;shapedresnet&#39;] with budget 9.0 resulted in optimize-metric-loss: 0.5615878701210022 took 11.688742399215698 seconds\n07:18:29 WORKER: registered result for job (9, 0, 5) with dispatcher\n07:18:29 WORKER: start processing job (10, 0, 0)\n07:18:29 Fit optimization pipeline\n07:18:29 Validation split is set to 0.3 and validation set is specified, autonet will ignore split and evaluate on given validation set\n07:18:29 [AutoNet] Validation set given. Continue with validation set (no cross validation).\n07:18:29 [AutoNet] CV split 0 of 1\n07:18:35 Finished train with budget 3.0: Preprocessing took 0s, Training took 5s, Wrap up took 0s. Total time consumption in s: 5\n07:18:35 [AutoNet] Done with current split!\n07:18:35 Aggregate the results across the splits\n07:18:35 Process 1 additional result(s)\n07:18:35 Training [&#39;shapedresnet&#39;] with budget 3.0 resulted in optimize-metric-loss: 0.1539009064435959 took 6.143596410751343 seconds\n07:18:35 WORKER: registered result for job (10, 0, 0) with dispatcher\n07:18:35 WORKER: start processing job (10, 0, 1)\n07:18:35 Fit optimization pipeline\n07:18:35 Validation split is set to 0.3 and validation set is specified, autonet will ignore split and evaluate on given validation set\n07:18:35 [AutoNet] Validation set given. Continue with validation set (no cross validation).\n07:18:35 [AutoNet] CV split 0 of 1\n07:18:42 Finished train with budget 3.0: Preprocessing took 0s, Training took 6s, Wrap up took 0s. Total time consumption in s: 6\n07:18:42 [AutoNet] Done with current split!\n07:18:42 Aggregate the results across the splits\n07:18:42 Process 1 additional result(s)\n07:18:42 Training [&#39;shapedresnet&#39;] with budget 3.0 resulted in optimize-metric-loss: 0.23112115263938904 took 7.147883415222168 seconds\n07:18:42 WORKER: registered result for job (10, 0, 1) with dispatcher\n07:18:42 WORKER: start processing job (10, 0, 2)\n07:18:42 Fit optimization pipeline\n07:18:42 Validation split is set to 0.3 and validation set is specified, autonet will ignore split and evaluate on given validation set\n07:18:42 [AutoNet] Validation set given. Continue with validation set (no cross validation).\n07:18:42 [AutoNet] CV split 0 of 1\n07:19:00 Finished train with budget 3.0: Preprocessing took 0s, Training took 16s, Wrap up took 0s. Total time consumption in s: 17\n07:19:00 [AutoNet] Done with current split!\n07:19:00 Aggregate the results across the splits\n07:19:00 Process 1 additional result(s)\n07:19:00 Training [&#39;shapedresnet&#39;] with budget 3.0 resulted in optimize-metric-loss: 0.1432400643825531 took 17.66775393486023 seconds\n07:19:00 WORKER: registered result for job (10, 0, 2) with dispatcher\n07:19:00 WORKER: start processing job (10, 0, 2)\n07:19:00 Fit optimization pipeline\n07:19:00 Validation split is set to 0.3 and validation set is specified, autonet will ignore split and evaluate on given validation set\n07:19:00 [AutoNet] Validation set given. Continue with validation set (no cross validation).\n07:19:00 [AutoNet] CV split 0 of 1\n07:19:43 Finished train with budget 9.0: Preprocessing took 0s, Training took 41s, Wrap up took 0s. Total time consumption in s: 42\n07:19:43 [AutoNet] Done with current split!\n07:19:43 Aggregate the results across the splits\n07:19:43 Process 1 additional result(s)\n07:19:43 Training [&#39;shapedresnet&#39;] with budget 9.0 resulted in optimize-metric-loss: 14048399.0 took 42.92224645614624 seconds\n07:19:43 WORKER: registered result for job (10, 0, 2) with dispatcher\n07:19:43 WORKER: start processing job (11, 0, 0)\n07:19:43 Fit optimization pipeline\n07:19:43 Validation split is set to 0.3 and validation set is specified, autonet will ignore split and evaluate on given validation set\n07:19:43 [AutoNet] Validation set given. Continue with validation set (no cross validation).\n07:19:43 [AutoNet] CV split 0 of 1\n07:19:50 Finished train with budget 9.0: Preprocessing took 0s, Training took 6s, Wrap up took 0s. Total time consumption in s: 6\n07:19:50 [AutoNet] Done with current split!\n07:19:50 Aggregate the results across the splits\n07:19:50 Process 1 additional result(s)\n07:19:50 Training [&#39;shapedresnet&#39;] with budget 9.0 resulted in optimize-metric-loss: 6144704.5 took 6.87362003326416 seconds\n07:19:50 WORKER: registered result for job (11, 0, 0) with dispatcher\n07:19:50 WORKER: start processing job (11, 0, 1)\n07:19:50 Fit optimization pipeline\n07:19:50 Validation split is set to 0.3 and validation set is specified, autonet will ignore split and evaluate on given validation set\n07:19:50 [AutoNet] Validation set given. Continue with validation set (no cross validation).\n07:19:50 [AutoNet] CV split 0 of 1\n07:20:05 Finished train with budget 9.0: Preprocessing took 0s, Training took 14s, Wrap up took 0s. Total time consumption in s: 15\n07:20:05 [AutoNet] Done with current split!\n07:20:05 Aggregate the results across the splits\n07:20:05 Process 1 additional result(s)\n07:20:05 Training [&#39;shapedresnet&#39;] with budget 9.0 resulted in optimize-metric-loss: 1.8177419900894165 took 15.499549865722656 seconds\n07:20:05 WORKER: registered result for job (11, 0, 1) with dispatcher\n07:20:05 WORKER: start processing job (11, 0, 2)\n07:20:05 Fit optimization pipeline\n07:20:05 Validation split is set to 0.3 and validation set is specified, autonet will ignore split and evaluate on given validation set\n07:20:05 [AutoNet] Validation set given. Continue with validation set (no cross validation).\n07:20:05 [AutoNet] CV split 0 of 1\n07:20:31 Finished train with budget 9.0: Preprocessing took 0s, Training took 25s, Wrap up took 0s. Total time consumption in s: 25\n07:20:31 [AutoNet] Done with current split!\n07:20:31 Aggregate the results across the splits\n07:20:31 Process 1 additional result(s)\n07:20:31 Training [&#39;shapedresnet&#39;] with budget 9.0 resulted in optimize-metric-loss: 0.9454534649848938 took 26.039365768432617 seconds\n07:20:31 WORKER: registered result for job (11, 0, 2) with dispatcher\n07:20:31 DISPATCHER: Dispatcher shutting down\n07:20:31 DISPATCHER: shut down complete\n07:20:32 Start autonet with config:\n{&#39;embeddings&#39;: [&#39;none&#39;], &#39;lr_scheduler&#39;: [&#39;cosine_annealing&#39;], &#39;networks&#39;: [&#39;shapedresnet&#39;], &#39;preprocessors&#39;: [&#39;truncated_svd&#39;], &#39;batch_loss_computation_techniques&#39;: [&#39;standard&#39;], &#39;imputation_strategies&#39;: [&#39;median&#39;], &#39;initialization_methods&#39;: [&#39;default&#39;], &#39;loss_modules&#39;: [&#39;l1_loss&#39;], &#39;normalization_strategies&#39;: [&#39;standardize&#39;], &#39;optimizer&#39;: [&#39;sgd&#39;], &#39;hyperparameter_search_space_updates&#39;: &lt;autoPyTorch.utils.hyperparameter_search_space_update.HyperparameterSearchSpaceUpdates object at 0x000001BC244728B0&gt;, &#39;budget_type&#39;: &#39;epochs&#39;, &#39;min_budget&#39;: 1, &#39;max_budget&#39;: 9, &#39;num_iterations&#39;: 12, &#39;log_level&#39;: &#39;info&#39;, &#39;result_logger_dir&#39;: &#39;.&#39;, &#39;categorical_features&#39;: None, &#39;dataset_name&#39;: None, &#39;run_id&#39;: &#39;0&#39;, &#39;task_id&#39;: -1, &#39;algorithm&#39;: &#39;bohb&#39;, &#39;portfolio_type&#39;: &#39;greedy&#39;, &#39;eta&#39;: 3, &#39;min_workers&#39;: 1, &#39;working_dir&#39;: &#39;.&#39;, &#39;network_interface_name&#39;: &#39;{F37360FE-EB23-466A-BC86-4697C9492EC7}&#39;, &#39;memory_limit_mb&#39;: 1000000, &#39;use_tensorboard_logger&#39;: False, &#39;run_worker_on_master_node&#39;: True, &#39;use_pynisher&#39;: True, &#39;validation_split&#39;: 0.3, &#39;refit_validation_split&#39;: 0.0, &#39;cross_validator&#39;: &#39;none&#39;, &#39;cross_validator_args&#39;: {}, &#39;min_budget_for_cv&#39;: 0, &#39;shuffle&#39;: True, &#39;over_sampling_methods&#39;: [&#39;none&#39;], &#39;under_sampling_methods&#39;: [&#39;none&#39;], &#39;target_size_strategies&#39;: [&#39;none&#39;], &#39;final_activation&#39;: &#39;none&#39;, &#39;initializer&#39;: &#39;simple_initializer&#39;, &#39;additional_logs&#39;: [], &#39;optimize_metric&#39;: &#39;mean_abs_error&#39;, &#39;additional_metrics&#39;: [], &#39;cuda&#39;: True, &#39;torch_num_threads&#39;: 1, &#39;full_eval_each_epoch&#39;: False, &#39;best_over_epochs&#39;: False, &#39;save_models&#39;: False, &#39;predict_model&#39;: None, &#39;early_stopping_patience&#39;: inf, &#39;early_stopping_reset_parameters&#39;: False, &#39;random_seed&#39;: 244165952, &#39;max_runtime&#39;: inf, &#39;cv_splits&#39;: 1, &#39;increase_number_of_trained_datasets&#39;: False}\n07:20:32 Start Refitting\n07:20:32 [AutoNet] Validation set given. Continue with validation set (no cross validation).\n07:20:32 [AutoNet] CV split 0 of 1\n07:20:35 Finished train with budget 1.0: Preprocessing took 0s, Training took 2s, Wrap up took 0s. Total time consumption in s: 2\n07:20:35 [AutoNet] Done with current split!\n07:20:35 Aggregate the results across the splits\n07:20:35 Process 1 additional result(s)\n07:20:35 Done Refitting\n"
    }
   ],
   "source": [
    "result = autonet.fit(X_train=X_train_new,Y_train=y_train_new, X_valid=X_val_new,Y_valid=y_val_new)"
   ]
  },
  {
   "cell_type": "code",
   "execution_count": 6,
   "metadata": {
    "tags": []
   },
   "outputs": [
    {
     "output_type": "stream",
     "name": "stdout",
     "text": "{&#39;optimized_hyperparameter_config&#39;: {&#39;CreateDataLoader:batch_size&#39;: 125, &#39;Imputation:strategy&#39;: &#39;median&#39;, &#39;InitializationSelector:initialization_method&#39;: &#39;default&#39;, &#39;InitializationSelector:initializer:initialize_bias&#39;: &#39;No&#39;, &#39;LearningrateSchedulerSelector:lr_scheduler&#39;: &#39;cosine_annealing&#39;, &#39;LossModuleSelector:loss_module&#39;: &#39;l1_loss&#39;, &#39;NetworkSelector:network&#39;: &#39;shapedresnet&#39;, &#39;NormalizationStrategySelector:normalization_strategy&#39;: &#39;standardize&#39;, &#39;OptimizerSelector:optimizer&#39;: &#39;sgd&#39;, &#39;PreprocessorSelector:preprocessor&#39;: &#39;truncated_svd&#39;, &#39;ResamplingStrategySelector:over_sampling_method&#39;: &#39;none&#39;, &#39;ResamplingStrategySelector:target_size_strategy&#39;: &#39;none&#39;, &#39;ResamplingStrategySelector:under_sampling_method&#39;: &#39;none&#39;, &#39;TrainNode:batch_loss_computation_technique&#39;: &#39;standard&#39;, &#39;LearningrateSchedulerSelector:cosine_annealing:T_max&#39;: 10, &#39;LearningrateSchedulerSelector:cosine_annealing:eta_min&#39;: 2, &#39;NetworkSelector:shapedresnet:activation&#39;: &#39;relu&#39;, &#39;NetworkSelector:shapedresnet:blocks_per_group&#39;: 3, &#39;NetworkSelector:shapedresnet:max_units&#39;: 118, &#39;NetworkSelector:shapedresnet:num_groups&#39;: 3, &#39;NetworkSelector:shapedresnet:resnet_shape&#39;: &#39;brick&#39;, &#39;NetworkSelector:shapedresnet:use_dropout&#39;: 0, &#39;NetworkSelector:shapedresnet:use_shake_drop&#39;: 0, &#39;NetworkSelector:shapedresnet:use_shake_shake&#39;: 0, &#39;OptimizerSelector:sgd:learning_rate&#39;: 0.017296045778574753, &#39;OptimizerSelector:sgd:momentum&#39;: 0.7179993052839114, &#39;OptimizerSelector:sgd:weight_decay&#39;: 0.010928546818963084, &#39;PreprocessorSelector:truncated_svd:target_dim&#39;: 100}, &#39;budget&#39;: 1.0, &#39;loss&#39;: 0.06484225392341614, &#39;info&#39;: {&#39;loss&#39;: 0.10131112998351455, &#39;model_parameters&#39;: 263849.0, &#39;train_mean_abs_error&#39;: 0.10131112486124039, &#39;lr_scheduler_converged&#39;: 0.0, &#39;lr&#39;: 0.017296045778574753, &#39;val_mean_abs_error&#39;: 0.06484225392341614}}\n"
    }
   ],
   "source": [
    "print(result)"
   ]
  },
  {
   "cell_type": "code",
   "execution_count": 7,
   "metadata": {},
   "outputs": [],
   "source": [
    "outputs = autonet.predict(X=X_test_new)"
   ]
  },
  {
   "cell_type": "code",
   "execution_count": 8,
   "metadata": {},
   "outputs": [],
   "source": [
    "loss = ((outputs - y_test_new)**2).mean(axis=0)"
   ]
  },
  {
   "cell_type": "code",
   "execution_count": 10,
   "metadata": {
    "tags": []
   },
   "outputs": [
    {
     "output_type": "stream",
     "name": "stdout",
     "text": "Final loss with autopytorch is [0.07318087].\n"
    }
   ],
   "source": [
    "print(f\"Final loss with autopytorch is {loss}.\")"
   ]
  },
  {
   "cell_type": "code",
   "execution_count": null,
   "metadata": {},
   "outputs": [],
   "source": []
  }
 ]
}